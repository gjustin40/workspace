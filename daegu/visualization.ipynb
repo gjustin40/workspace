{
 "cells": [
  {
   "cell_type": "code",
   "execution_count": null,
   "id": "b52ad51c",
   "metadata": {},
   "outputs": [],
   "source": [
    "import cv2\n",
    "import numpy as np\n",
    "from tqdm import tqdm\n",
    "import glob\n",
    "\n",
    "color_dict = {\n",
    "    'starfish' : (0, 165, 255),\n",
    "}\n",
    "\n",
    "selected_jpg = sorted(glob.glob('./train_images/*/*.jpg'))\n",
    "save_path = './visualized_img'\n",
    "\n",
    "\n",
    "for image_name in tqdm(selected_jpg):\n",
    "#     print(frame_num)\n",
    "    frame_num = image_name.split('/')[-1].replace('.jpg', '')\n",
    "    video_num = image_name.split('/')[-2]\n",
    "    img = cv2.imread(image_name)\n",
    "    shapes = np.zeros_like(img, dtype=np.uint8)\n",
    "#     print(img.shape)\n",
    "#     print(frame_num in list(video_2['video_frame']))\n",
    "    \n",
    "    if int(frame_num) in list(eval(video_num)['video_frame']):\n",
    "#         print(frame_num)\n",
    "        bbox_info_1 = list(eval(video_num).loc[eval(video_num)['video_frame']==int(frame_num)]['annotations'])[0]\n",
    "#         print(bbox_info_1)\n",
    "        bbox_info = eval(bbox_info_1)\n",
    "        for bbox_num in bbox_info:\n",
    "#             print(bbox_num)\n",
    "        \n",
    "            bbox = [int(bbox_num['x']), int(bbox_num['y']), int(int(bbox_num['x'])+int(bbox_num['width'])), int(int(bbox_num['y'])+int(bbox_num['height']))]\n",
    "            x1, y1, x2, y2 = bbox\n",
    "\n",
    "            color_filled = (int(color_dict['starfish'][0]), int(color_dict['starfish'][1]), int(color_dict['starfish'][2]))\n",
    "\n",
    "\n",
    "            cv2.rectangle(shapes, (x1, y1), (x2,y2), color_filled)\n",
    "            cv2.rectangle(img, (x1, y1), (x2,y2), color_filled, 2)\n",
    "            cv2.putText(img, '{}'.format('starfish'), (x1,y1-10), cv2.FONT_HERSHEY_COMPLEX_SMALL, 1, (255, 255, 255), 1)\n",
    "\n",
    "            out = img.copy()\n",
    "            alpha = 0.7\n",
    "            mask = shapes.astype(bool)\n",
    "            out[mask] = cv2.addWeighted(img, alpha, shapes, 1-alpha, 0)[mask]\n",
    "\n",
    "\n",
    "\n",
    "        cv2.imwrite(f'{save_path}/{video_num}_{frame_num}.jpg', out)\n"
   ]
  }
 ],
 "metadata": {
  "kernelspec": {
   "display_name": "Python 3 (ipykernel)",
   "language": "python",
   "name": "python3"
  },
  "language_info": {
   "codemirror_mode": {
    "name": "ipython",
    "version": 3
   },
   "file_extension": ".py",
   "mimetype": "text/x-python",
   "name": "python",
   "nbconvert_exporter": "python",
   "pygments_lexer": "ipython3",
   "version": "3.9.7"
  }
 },
 "nbformat": 4,
 "nbformat_minor": 5
}
