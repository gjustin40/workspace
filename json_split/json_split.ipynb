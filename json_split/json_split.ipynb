{
 "cells": [
  {
   "cell_type": "code",
   "execution_count": 4,
   "metadata": {},
   "outputs": [],
   "source": [
    "import os\n",
    "import glob\n",
    "\n",
    "import json"
   ]
  },
  {
   "cell_type": "code",
   "execution_count": 63,
   "metadata": {},
   "outputs": [],
   "source": [
    "def split_json(json_file):\n",
    "\n",
    "    with open(json_file, 'r') as f:\n",
    "        json_data = json.load(f)\n",
    "\n",
    "        image_data_list = json_data['images']\n",
    "        annotation_data_list = json_data['annotations']\n",
    "        categories_data = json_data['categories']\n",
    "\n",
    "        annotations_by_image_dict = {}\n",
    "        for image_data in image_data_list:\n",
    "            image_id = image_data['id']\n",
    "            \n",
    "            annotations_by_image_dict[image_id] = []\n",
    "\n",
    "        for annotation_data in annotation_data_list:\n",
    "            image_id = annotation_data['image_id']\n",
    "            annotations_by_image_dict[image_id].append(annotation_data)\n",
    "\n",
    "    json_dict = {}\n",
    "    target_dir = 'result'\n",
    "    for image_data, annotations in zip(image_data_list, annotations_by_image_dict.values()):\n",
    "        image_filename = image_data['file_name']\n",
    "        image_filename_ext = image_filename.split('.')[-1]\n",
    "        json_filename = image_filename.replace(image_filename_ext, 'json')\n",
    "        json_path = os.path.join(target_dir, json_filename)\n",
    "\n",
    "        json_dict['images'] = image_data\n",
    "        json_dict['categories'] = categories_data\n",
    "        json_dict['annotations'] = annotations\n",
    "\n",
    "        with open(json_path, 'w') as f:\n",
    "            json.dump(json_dict, f)\n",
    "    \n",
    "    print(f'Finished Splitting! ({len(image_data)})')\n",
    "\n",
    "    return len(image_data)\n"
   ]
  },
  {
   "cell_type": "code",
   "execution_count": 64,
   "metadata": {},
   "outputs": [
    {
     "name": "stdout",
     "output_type": "stream",
     "text": [
      "Finished Splitting! (15)\n"
     ]
    }
   ],
   "source": [
    "result = split_json('example.json')"
   ]
  }
 ],
 "metadata": {
  "interpreter": {
   "hash": "c78f8bd1533eb5de20c17db7535f16270599f11193eeb9bc340c50eae50fbe0d"
  },
  "kernelspec": {
   "display_name": "Python 3.9.9 64-bit (windows store)",
   "language": "python",
   "name": "python3"
  },
  "language_info": {
   "codemirror_mode": {
    "name": "ipython",
    "version": 3
   },
   "file_extension": ".py",
   "mimetype": "text/x-python",
   "name": "python",
   "nbconvert_exporter": "python",
   "pygments_lexer": "ipython3",
   "version": "3.9.9"
  },
  "orig_nbformat": 4
 },
 "nbformat": 4,
 "nbformat_minor": 2
}
