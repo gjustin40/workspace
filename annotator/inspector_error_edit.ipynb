{
 "cells": [
  {
   "cell_type": "code",
   "execution_count": 113,
   "metadata": {},
   "outputs": [],
   "source": [
    "import os\n",
    "import glob\n",
    "import xml\n",
    "\n",
    "import xml.etree.ElementTree as ET"
   ]
  },
  {
   "cell_type": "code",
   "execution_count": 111,
   "metadata": {},
   "outputs": [
    {
     "name": "stdout",
     "output_type": "stream",
     "text": [
      "1176\n",
      "1176\n"
     ]
    }
   ],
   "source": [
    "xml_url = 'S:/traffic_night/inspector2/Annotations'\n",
    "img_url = 'S:/traffic_night/inspector2/JPEGImages'\n",
    "# base_url = 'S:\\\\traffic_night\\\\inspector\\\\JPEGImages\\\\'\n",
    "\n",
    "xml_list = sorted(glob.glob(xml_url + '/*'))\n",
    "img_list = sorted(glob.glob(img_url + '/*'))\n",
    "print(len(xml_list))\n",
    "print(len(img_list))\n",
    "example = xml_list[100]"
   ]
  },
  {
   "cell_type": "code",
   "execution_count": 112,
   "metadata": {},
   "outputs": [],
   "source": [
    "for xml_path in xml_list:\n",
    "    try:\n",
    "        tree = ET.parse(xml_path)\n",
    "        root = tree.getroot()\n",
    "\n",
    "        filename = root.find('filename').text\n",
    "        root.find('worker').text = 'D'\n",
    "        root.find('path').text = 'Y:\\\\traffic_night\\D\\D-4\\JPEGImages\\\\' + filename\n",
    "        new_field = ET.SubElement(root, \"rejection_check\")\n",
    "        root.find('rejection_check').text = 'False'\n",
    "        tree.write(xml_path)\n",
    "    except:\n",
    "        print(xml_path)"
   ]
  }
 ],
 "metadata": {
  "interpreter": {
   "hash": "33b20ad558e04b38cfad19822a7391e635b12236cec5bf6a7a6f9b5bbf7456f8"
  },
  "kernelspec": {
   "display_name": "Python 3.9.7 64-bit ('base': conda)",
   "language": "python",
   "name": "python3"
  },
  "language_info": {
   "codemirror_mode": {
    "name": "ipython",
    "version": 3
   },
   "file_extension": ".py",
   "mimetype": "text/x-python",
   "name": "python",
   "nbconvert_exporter": "python",
   "pygments_lexer": "ipython3",
   "version": "3.9.7"
  },
  "orig_nbformat": 4
 },
 "nbformat": 4,
 "nbformat_minor": 2
}
