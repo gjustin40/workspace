{
 "cells": [
  {
   "cell_type": "code",
   "execution_count": 2,
   "metadata": {},
   "outputs": [],
   "source": [
    "import os\n",
    "import glob\n",
    "\n",
    "from tqdm import tqdm\n",
    "import shutil"
   ]
  },
  {
   "cell_type": "markdown",
   "metadata": {},
   "source": [
    "### 폴더명으로 데이터 분배하기\n",
    "- Annotator 폴더이름\n",
    "- 전송할 데이터 개수"
   ]
  },
  {
   "cell_type": "code",
   "execution_count": 3,
   "metadata": {},
   "outputs": [
    {
     "name": "stdout",
     "output_type": "stream",
     "text": [
      "23535\n",
      "S:/traffic_night2/D/D-1/JPEGImages\n"
     ]
    },
    {
     "name": "stderr",
     "output_type": "stream",
     "text": [
      "100%|██████████| 23535/23535 [05:42<00:00, 68.70it/s]"
     ]
    },
    {
     "name": "stdout",
     "output_type": "stream",
     "text": [
      "Done! 7042\n"
     ]
    },
    {
     "name": "stderr",
     "output_type": "stream",
     "text": [
      "\n"
     ]
    }
   ],
   "source": [
    "target_person = 'D/D-1'\n",
    "image_num = 5000\n",
    "\n",
    "base_dir = 'S:/traffic_night2/raw_unlabeled'\n",
    "image_path_list = glob.glob(base_dir + '/*')\n",
    "\n",
    "target_dir = f'S:/traffic_night2/{target_person}/JPEGImages'\n",
    "day_dir = f'S:/traffic_night2/raw_unlabeled_day'\n",
    "\n",
    "print(len(image_path_list))\n",
    "print(target_dir)\n",
    "\n",
    "i = 0\n",
    "for image_path in tqdm(image_path_list):\n",
    "    basename = os.path.basename(image_path)\n",
    "    \n",
    "    date = basename.split('_')[0]\n",
    "    time = int(date[8:12])\n",
    "    \n",
    "    if (1830 <= time <= 2359) or (1 <= time <= 600):\n",
    "        new_path = os.path.join(target_dir, basename)\n",
    "        # shutil.move(image_path, new_path)\n",
    "        i += 1\n",
    "\n",
    "        # if i == image_num:\n",
    "            # break\n",
    "    \n",
    "    else:\n",
    "        new_path = os.path.join(day_dir, basename)\n",
    "        shutil.move(image_path, new_path)\n",
    "        \n",
    "print('Done!', i)"
   ]
  }
 ],
 "metadata": {
  "interpreter": {
   "hash": "33b20ad558e04b38cfad19822a7391e635b12236cec5bf6a7a6f9b5bbf7456f8"
  },
  "kernelspec": {
   "display_name": "Python 3.9.7 64-bit ('base': conda)",
   "language": "python",
   "name": "python3"
  },
  "language_info": {
   "codemirror_mode": {
    "name": "ipython",
    "version": 3
   },
   "file_extension": ".py",
   "mimetype": "text/x-python",
   "name": "python",
   "nbconvert_exporter": "python",
   "pygments_lexer": "ipython3",
   "version": "3.9.7"
  },
  "orig_nbformat": 4
 },
 "nbformat": 4,
 "nbformat_minor": 2
}
