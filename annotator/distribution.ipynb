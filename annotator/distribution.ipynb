{
 "cells": [
  {
   "cell_type": "code",
   "execution_count": 15,
   "metadata": {},
   "outputs": [],
   "source": [
    "import os\n",
    "import glob\n",
    "\n",
    "from tqdm import tqdm\n",
    "import shutil"
   ]
  },
  {
   "cell_type": "markdown",
   "metadata": {},
   "source": [
    "### 폴더명으로 데이터 분배하기\n",
    "- Annotator 폴더이름\n",
    "- 전송할 데이터 개수"
   ]
  },
  {
   "cell_type": "code",
   "execution_count": 16,
   "metadata": {},
   "outputs": [
    {
     "name": "stdout",
     "output_type": "stream",
     "text": [
      "109187\n",
      "S:/traffic_day/I/I-1/JPEGImages\n"
     ]
    }
   ],
   "source": [
    "base_dir = 'S:/traffic_night2/raw_unlabeled_day'\n",
    "image_path_list = sorted(glob.glob(base_dir + '/*'))\n",
    "\n",
    "day_dir = f'S:/traffic_night2/raw_unlabeled'\n",
    "\n",
    "print(len(image_path_list))\n",
    "print(target_dir)"
   ]
  },
  {
   "cell_type": "code",
   "execution_count": 17,
   "metadata": {},
   "outputs": [
    {
     "name": "stdout",
     "output_type": "stream",
     "text": [
      "S:/traffic_day/A/A-2/JPEGImages\n",
      "S:/traffic_day/C/C-2/JPEGImages\n",
      "S:/traffic_day/D/D-2/JPEGImages\n",
      "S:/traffic_day/E/E-2/JPEGImages\n",
      "S:/traffic_day/I/I-2/JPEGImages\n"
     ]
    }
   ],
   "source": [
    "# multi\n",
    "target_person_list = ['A/A-2', 'C/C-2', 'D/D-2', 'E/E-2', 'I/I-2']\n",
    "\n",
    "# single\n",
    "# target_person_list = []\n",
    "image_num = 10000\n",
    "\n",
    "for target_person in target_person_list:\n",
    "    print(f'S:/traffic_day/{target_person}/JPEGImages')"
   ]
  },
  {
   "cell_type": "code",
   "execution_count": 18,
   "metadata": {},
   "outputs": [
    {
     "name": "stderr",
     "output_type": "stream",
     "text": [
      " 18%|█████████████▍                                                             | 19516/109187 [06:02<27:47, 53.77it/s]\n",
      " 19%|██████████████▌                                                             | 17220/89670 [05:01<21:07, 57.18it/s]\n",
      " 20%|███████████████▍                                                            | 14705/72449 [04:29<17:38, 54.53it/s]\n",
      " 38%|████████████████████████████▊                                               | 21916/57743 [05:19<08:41, 68.66it/s]\n",
      " 49%|████████████████████████████████████▉                                       | 17431/35826 [04:31<04:46, 64.30it/s]"
     ]
    },
    {
     "name": "stdout",
     "output_type": "stream",
     "text": [
      "Done! 10000\n"
     ]
    },
    {
     "name": "stderr",
     "output_type": "stream",
     "text": [
      "\n"
     ]
    }
   ],
   "source": [
    "# Day\n",
    "\n",
    "for target_person in target_person_list:\n",
    "    i = 0\n",
    "    image_path_list = sorted(glob.glob(base_dir + '/*'))\n",
    "    target_dir = f'S:/traffic_day/{target_person}/JPEGImages'\n",
    "    for image_path in tqdm(image_path_list):\n",
    "        basename = os.path.basename(image_path)\n",
    "\n",
    "        date = basename.split('_')[0]\n",
    "        time = int(date[8:12])\n",
    "\n",
    "        if (900 <= time <= 1600):\n",
    "            new_path = os.path.join(target_dir, basename)\n",
    "            shutil.move(image_path, new_path)\n",
    "            i += 1\n",
    "\n",
    "            if i == image_num:\n",
    "                break\n",
    "\n",
    "        else:\n",
    "            new_path = os.path.join(day_dir, basename)\n",
    "            shutil.move(image_path, new_path)\n",
    "        \n",
    "print('Done!', i)"
   ]
  },
  {
   "cell_type": "code",
   "execution_count": null,
   "metadata": {},
   "outputs": [],
   "source": [
    "# Night\n",
    "i = 0\n",
    "for image_path in tqdm(image_path_list):\n",
    "    basename = os.path.basename(image_path)\n",
    "    \n",
    "    date = basename.split('_')[0]\n",
    "    time = int(date[8:12])\n",
    "    \n",
    "    if (1900 <= time <= 2359) or (1 <= time <= 500):\n",
    "        new_path = os.path.join(target_dir, basename)\n",
    "        shutil.move(image_path, new_path)\n",
    "        i += 1\n",
    "\n",
    "        if i == image_num:\n",
    "            break\n",
    "    \n",
    "    else:\n",
    "        new_path = os.path.join(day_dir, basename)\n",
    "        shutil.move(image_path, new_path)\n",
    "        \n",
    "print('Done!', i)"
   ]
  }
 ],
 "metadata": {
  "interpreter": {
   "hash": "33b20ad558e04b38cfad19822a7391e635b12236cec5bf6a7a6f9b5bbf7456f8"
  },
  "kernelspec": {
   "display_name": "Python 3 (ipykernel)",
   "language": "python",
   "name": "python3"
  },
  "language_info": {
   "codemirror_mode": {
    "name": "ipython",
    "version": 3
   },
   "file_extension": ".py",
   "mimetype": "text/x-python",
   "name": "python",
   "nbconvert_exporter": "python",
   "pygments_lexer": "ipython3",
   "version": "3.9.7"
  }
 },
 "nbformat": 4,
 "nbformat_minor": 2
}
