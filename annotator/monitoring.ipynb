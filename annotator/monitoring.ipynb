{
 "cells": [
  {
   "cell_type": "code",
   "execution_count": 1,
   "metadata": {},
   "outputs": [],
   "source": [
    "import os\n",
    "import glob\n",
    "\n",
    "import re\n",
    "from datetime import datetime"
   ]
  },
  {
   "cell_type": "code",
   "execution_count": 2,
   "metadata": {
    "scrolled": false
   },
   "outputs": [
    {
     "name": "stdout",
     "output_type": "stream",
     "text": [
      "traffic_night2\n",
      "-------------------------A-------------------------\n",
      "S:/traffic_night2\\A\\A-0 10000 7560 Running  2440\n",
      "A total: 10000 / finished: 7560\n",
      "-------------------------C-------------------------\n",
      "S:/traffic_night2\\C\\C-0 1796 1796 Done\n",
      "S:/traffic_night2\\C\\C-1 8918 8918 Done\n",
      "S:/traffic_night2\\C\\C-2 5542 5571 Running  -29\n",
      "C total: 16256 / finished: 16285\n",
      "-------------------------D-------------------------\n",
      "S:/traffic_night2\\D\\D-0 3000 3000 Done\n",
      "S:/traffic_night2\\D\\D-1 5000 5000 Done\n",
      "S:/traffic_night2\\D\\D-2 1500 1500 Done\n",
      "D total: 9500 / finished: 9500\n",
      "-------------------------E-------------------------\n",
      "S:/traffic_night2\\E\\E-0 3000 3000 Done\n",
      "S:/traffic_night2\\E\\E-1 4216 4216 Done\n",
      "S:/traffic_night2\\E\\E-2 4000 4000 Done\n",
      "S:/traffic_night2\\E\\E-3 3000 2694 Running  306\n",
      "E total: 14216 / finished: 13910\n",
      "-------------------------I-------------------------\n",
      "S:/traffic_night2\\I\\I-0 3000 3000 Done\n",
      "S:/traffic_night2\\I\\I-1 3000 3000 Done\n",
      "S:/traffic_night2\\I\\I-2 4000 4000 Done\n",
      "S:/traffic_night2\\I\\I-3 1000 1000 Done\n",
      "I total: 11000 / finished: 11000\n",
      "--------------------------------------------------\n",
      "traffic_night2 Total: 60972 / Finished: 58255 / Left: 2717\n",
      "\n",
      "\n"
     ]
    }
   ],
   "source": [
    "base_dir = 'S:/'\n",
    "# data_dir_list = ['traffic_night', 'traffic_night2']\n",
    "data_dir_list = ['traffic_night2']\n",
    "# data_dir_list = ['traffic_day']\n",
    "annotator_list = ['A', 'C', 'D', 'E', 'I']\n",
    "current_date = datetime.now().strftime('%Y%m%d_%H%M')\n",
    "text_filename = f'result/{current_date}.txt'\n",
    "\n",
    "f = open(text_filename, 'w')\n",
    "for data_dir in data_dir_list:\n",
    "    print(data_dir)\n",
    "    f.write(f'{data_dir}\\n')\n",
    "    total_image_per_data = 0\n",
    "    finished_label_per_data = 0\n",
    "\n",
    "    for annotator in annotator_list:\n",
    "        total_image_per_annotator = 0\n",
    "        finished_label_per_annotator = 0\n",
    "\n",
    "        print('-'*25 + f'{annotator}' + '-'*25)\n",
    "        f.write(f\"{'-'*25 + f'{annotator}' + '-'*25}\\n\")\n",
    "        path = os.path.join(base_dir, data_dir, annotator)\n",
    "        subfolder_list = [subfolder for subfolder in glob.glob(path + '/*') if re.search('[A-Z]-[0-9]', subfolder[-3:])]\n",
    "\n",
    "        for subfolder in subfolder_list:\n",
    "            image_path = os.path.join(subfolder, 'JPEGImages')\n",
    "            label_path = os.path.join(subfolder, 'Annotations')\n",
    "            img_num = len(glob.glob(image_path + '/*.jpg'))\n",
    "            lab_num = len(glob.glob(label_path + '/*.xml'))\n",
    "#             img_num = len(os.listdir(image_path))\n",
    "#             lab_num = len(os.listdir(label_path))\n",
    "            # img_num = random.randint(100, 9999)\n",
    "            # lab_num = random.randint(100, 9999) - 100\n",
    "\n",
    "            total_image_per_annotator += img_num\n",
    "            finished_label_per_annotator += lab_num\n",
    "            state = 'Done' if img_num == lab_num else 'Ready' if lab_num==0 else f'Running  {img_num-lab_num}'\n",
    "\n",
    "            print(f'{subfolder} {img_num} {lab_num} {state}')\n",
    "            f.write(f\"{f'{subfolder} {img_num} {lab_num} {state}'}\\n\")\n",
    "            # print(f'{subfolder} / 000 / 000 / {\"Done\" if img_num == lab_num else f\"running  {img_num-lab_num}\" }')\n",
    "        \n",
    "        print(f'{annotator} total: {total_image_per_annotator} / finished: {finished_label_per_annotator}')\n",
    "        f.write(f\"{f'{annotator} total: {total_image_per_annotator} / finished: {finished_label_per_annotator}'}\\n\")\n",
    "    \n",
    "        total_image_per_data += total_image_per_annotator\n",
    "        finished_label_per_data += finished_label_per_annotator\n",
    "\n",
    "    print('-'*50)\n",
    "    f.write(f\"{'-'*50}\\n\")\n",
    "    print(f'{data_dir} Total: {total_image_per_data} / Finished: {finished_label_per_data} / Left: {total_image_per_data-finished_label_per_data}')\n",
    "    f.write(f\"{f'{data_dir} Total: {total_image_per_data} / Finished: {finished_label_per_data} / Left: {total_image_per_data-finished_label_per_data}'}\\n\")\n",
    "    print('\\n')\n",
    "    f.write('\\n\\n')\n",
    "\n",
    "f.close()"
   ]
  },
  {
   "cell_type": "code",
   "execution_count": null,
   "metadata": {},
   "outputs": [],
   "source": []
  }
 ],
 "metadata": {
  "interpreter": {
   "hash": "33b20ad558e04b38cfad19822a7391e635b12236cec5bf6a7a6f9b5bbf7456f8"
  },
  "kernelspec": {
   "display_name": "Python 3 (ipykernel)",
   "language": "python",
   "name": "python3"
  },
  "language_info": {
   "codemirror_mode": {
    "name": "ipython",
    "version": 3
   },
   "file_extension": ".py",
   "mimetype": "text/x-python",
   "name": "python",
   "nbconvert_exporter": "python",
   "pygments_lexer": "ipython3",
   "version": "3.9.7"
  }
 },
 "nbformat": 4,
 "nbformat_minor": 2
}
