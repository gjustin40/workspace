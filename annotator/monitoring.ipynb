{
 "cells": [
  {
   "cell_type": "code",
   "execution_count": 1,
   "metadata": {},
   "outputs": [],
   "source": [
    "import os\n",
    "import glob\n",
    "\n",
    "import re\n",
    "from datetime import datetime"
   ]
  },
  {
   "cell_type": "code",
   "execution_count": 3,
   "metadata": {
    "scrolled": false
   },
   "outputs": [
    {
     "name": "stdout",
     "output_type": "stream",
     "text": [
      "traffic_day\n",
      "-------------------------A-------------------------\n",
      "S:/traffic_day\\A\\A-0 3000 1205 Running  1795\n",
      "S:/traffic_day\\A\\A-1 10191 0 Ready\n",
      "S:/traffic_day\\A\\A-2 10000 0 Ready\n",
      "A total: 23191 / finished: 1205\n",
      "-------------------------C-------------------------\n",
      "S:/traffic_day\\C\\C-0 3000 3000 Done\n",
      "S:/traffic_day\\C\\C-1 10000 2032 Running  7968\n",
      "S:/traffic_day\\C\\C-2 10000 0 Ready\n",
      "C total: 23000 / finished: 5032\n",
      "-------------------------D-------------------------\n",
      "S:/traffic_day\\D\\D-0 3000 3000 Done\n",
      "S:/traffic_day\\D\\D-1 10000 7009 Running  2991\n",
      "S:/traffic_day\\D\\D-2 10000 0 Ready\n",
      "D total: 23000 / finished: 10009\n",
      "-------------------------E-------------------------\n",
      "S:/traffic_day\\E\\E-0 3000 3000 Done\n",
      "S:/traffic_day\\E\\E-1 10000 5853 Running  4147\n",
      "S:/traffic_day\\E\\E-2 10000 0 Ready\n",
      "E total: 23000 / finished: 8853\n",
      "-------------------------I-------------------------\n",
      "S:/traffic_day\\I\\I-0 0 0 Done\n",
      "S:/traffic_day\\I\\I-1 10000 8971 Running  1029\n",
      "S:/traffic_day\\I\\I-2 10000 0 Ready\n",
      "I total: 20000 / finished: 8971\n",
      "--------------------------------------------------\n",
      "traffic_day Total: 112191 / Finished: 34070 / Left: 78121\n",
      "\n",
      "\n"
     ]
    }
   ],
   "source": [
    "base_dir = 'S:/'\n",
    "# data_dir_list = ['traffic_night', 'traffic_night2']\n",
    "# data_dir_list = ['traffic_night2']\n",
    "data_dir_list = ['traffic_day']\n",
    "annotator_list = ['A', 'C', 'D', 'E', 'I']\n",
    "current_date = datetime.now().strftime('%Y%m%d_%H%M')\n",
    "text_filename = f'result/{current_date}.txt'\n",
    "\n",
    "f = open(text_filename, 'w')\n",
    "for data_dir in data_dir_list:\n",
    "    print(data_dir)\n",
    "    f.write(f'{data_dir}\\n')\n",
    "    total_image_per_data = 0\n",
    "    finished_label_per_data = 0\n",
    "\n",
    "    for annotator in annotator_list:\n",
    "        total_image_per_annotator = 0\n",
    "        finished_label_per_annotator = 0\n",
    "\n",
    "        print('-'*25 + f'{annotator}' + '-'*25)\n",
    "        f.write(f\"{'-'*25 + f'{annotator}' + '-'*25}\\n\")\n",
    "        path = os.path.join(base_dir, data_dir, annotator)\n",
    "        subfolder_list = [subfolder for subfolder in glob.glob(path + '/*') if re.search('[A-Z]-[0-9]', subfolder[-3:])]\n",
    "\n",
    "        for subfolder in subfolder_list:\n",
    "            image_path = os.path.join(subfolder, 'JPEGImages')\n",
    "            label_path = os.path.join(subfolder, 'Annotations')\n",
    "            img_num = len(glob.glob(image_path + '/*.jpg'))\n",
    "            lab_num = len(glob.glob(label_path + '/*.xml'))\n",
    "\n",
    "            total_image_per_annotator += img_num\n",
    "            finished_label_per_annotator += lab_num\n",
    "            state = 'Done' if img_num == lab_num else 'Ready' if lab_num==0 else f'Running  {img_num-lab_num}'\n",
    "\n",
    "            print(f'{subfolder} {img_num} {lab_num} {state}')\n",
    "            f.write(f\"{f'{subfolder} {img_num} {lab_num} {state}'}\\n\")\n",
    "        \n",
    "        print(f'{annotator} total: {total_image_per_annotator} / finished: {finished_label_per_annotator}')\n",
    "        f.write(f\"{f'{annotator} total: {total_image_per_annotator} / finished: {finished_label_per_annotator}'}\\n\")\n",
    "    \n",
    "        total_image_per_data += total_image_per_annotator\n",
    "        finished_label_per_data += finished_label_per_annotator\n",
    "\n",
    "    print('-'*50)\n",
    "    f.write(f\"{'-'*50}\\n\")\n",
    "    print(f'{data_dir} Total: {total_image_per_data} / Finished: {finished_label_per_data} / Left: {total_image_per_data-finished_label_per_data}')\n",
    "    f.write(f\"{f'{data_dir} Total: {total_image_per_data} / Finished: {finished_label_per_data} / Left: {total_image_per_data-finished_label_per_data}'}\\n\")\n",
    "    print('\\n')\n",
    "    f.write('\\n\\n')\n",
    "\n",
    "f.close()"
   ]
  }
 ],
 "metadata": {
  "interpreter": {
   "hash": "33b20ad558e04b38cfad19822a7391e635b12236cec5bf6a7a6f9b5bbf7456f8"
  },
  "kernelspec": {
   "display_name": "Python 3 (ipykernel)",
   "language": "python",
   "name": "python3"
  },
  "language_info": {
   "codemirror_mode": {
    "name": "ipython",
    "version": 3
   },
   "file_extension": ".py",
   "mimetype": "text/x-python",
   "name": "python",
   "nbconvert_exporter": "python",
   "pygments_lexer": "ipython3",
   "version": "3.9.7"
  }
 },
 "nbformat": 4,
 "nbformat_minor": 2
}
