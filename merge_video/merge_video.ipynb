{
 "cells": [
  {
   "cell_type": "markdown",
   "id": "4eb8f3dd",
   "metadata": {},
   "source": [
    "# Video Merge\n",
    "- VideoCapture 함수는 1초에 30frame을 기준으로 계산을 하면 된다.\n",
    "- 10초짜리 영상이면 30*10 = 300frame일 때 writer 만들면 된다.\n",
    "- 실제 과업은 5분짜리니까 30*300 = 9000frame으로 하면 짜를 수 있음"
   ]
  },
  {
   "cell_type": "code",
   "execution_count": null,
   "id": "08e7cbbd",
   "metadata": {},
   "outputs": [],
   "source": [
    "import os\n",
    "import glob\n",
    "\n",
    "import cv2\n",
    "import numpy as np"
   ]
  },
  {
   "cell_type": "code",
   "execution_count": 1,
   "id": "834cc9d4",
   "metadata": {},
   "outputs": [],
   "source": [
    "from moviepy.editor import VideoFileClip, concatenate_videoclips"
   ]
  },
  {
   "cell_type": "markdown",
   "id": "b51058aa",
   "metadata": {},
   "source": [
    "### 자르는 코드"
   ]
  },
  {
   "cell_type": "code",
   "execution_count": 7,
   "id": "35cff7f4",
   "metadata": {},
   "outputs": [
    {
     "ename": "KeyboardInterrupt",
     "evalue": "",
     "output_type": "error",
     "traceback": [
      "\u001b[1;31m---------------------------------------------------------------------------\u001b[0m",
      "\u001b[1;31mKeyboardInterrupt\u001b[0m                         Traceback (most recent call last)",
      "\u001b[1;32m~\\AppData\\Local\\Temp/ipykernel_7644/312576272.py\u001b[0m in \u001b[0;36m<module>\u001b[1;34m\u001b[0m\n\u001b[0;32m      9\u001b[0m     \u001b[1;32mif\u001b[0m \u001b[0mret\u001b[0m\u001b[1;33m:\u001b[0m\u001b[1;33m\u001b[0m\u001b[1;33m\u001b[0m\u001b[0m\n\u001b[0;32m     10\u001b[0m         \u001b[0mheight\u001b[0m\u001b[1;33m,\u001b[0m \u001b[0mwidth\u001b[0m\u001b[1;33m,\u001b[0m \u001b[0m_\u001b[0m \u001b[1;33m=\u001b[0m \u001b[0mnp\u001b[0m\u001b[1;33m.\u001b[0m\u001b[0mshape\u001b[0m\u001b[1;33m(\u001b[0m\u001b[0mframe\u001b[0m\u001b[1;33m)\u001b[0m\u001b[1;33m\u001b[0m\u001b[1;33m\u001b[0m\u001b[0m\n\u001b[1;32m---> 11\u001b[1;33m         \u001b[0mcv2\u001b[0m\u001b[1;33m.\u001b[0m\u001b[0mimwrite\u001b[0m\u001b[1;33m(\u001b[0m\u001b[1;34mf'frame{frame_num}.jpg'\u001b[0m\u001b[1;33m,\u001b[0m \u001b[0mframe\u001b[0m\u001b[1;33m)\u001b[0m\u001b[1;33m\u001b[0m\u001b[1;33m\u001b[0m\u001b[0m\n\u001b[0m\u001b[0;32m     12\u001b[0m         \u001b[1;32mif\u001b[0m \u001b[0mframe_num\u001b[0m\u001b[1;33m%\u001b[0m\u001b[1;36m300\u001b[0m \u001b[1;33m==\u001b[0m \u001b[1;36m0\u001b[0m\u001b[1;33m:\u001b[0m\u001b[1;33m\u001b[0m\u001b[1;33m\u001b[0m\u001b[0m\n\u001b[0;32m     13\u001b[0m             \u001b[0mout\u001b[0m \u001b[1;33m=\u001b[0m \u001b[0mcv2\u001b[0m\u001b[1;33m.\u001b[0m\u001b[0mVideoWriter\u001b[0m\u001b[1;33m(\u001b[0m\u001b[1;34mf'output_{frame_num}.avi'\u001b[0m\u001b[1;33m,\u001b[0m \u001b[0mfourcc\u001b[0m\u001b[1;33m,\u001b[0m \u001b[1;36m30\u001b[0m\u001b[1;33m,\u001b[0m \u001b[1;33m(\u001b[0m\u001b[0mwidth\u001b[0m\u001b[1;33m,\u001b[0m\u001b[0mheight\u001b[0m\u001b[1;33m)\u001b[0m\u001b[1;33m)\u001b[0m\u001b[1;33m\u001b[0m\u001b[1;33m\u001b[0m\u001b[0m\n",
      "\u001b[1;31mKeyboardInterrupt\u001b[0m: "
     ]
    }
   ],
   "source": [
    "video_path = 'test.mp4'\n",
    "\n",
    "cap = cv2.VideoCapture(video_path)\n",
    "fourcc = cv2.VideoWriter_fourcc(*'DIVX')\n",
    "\n",
    "frame_num = 0\n",
    "while True:\n",
    "    ret, frame = cap.read()\n",
    "    if ret:\n",
    "        height, width, _ = np.shape(frame)\n",
    "        cv2.imwrite(f'frame{frame_num}.jpg', frame)\n",
    "        if frame_num%300 == 0:\n",
    "            out = cv2.VideoWriter(f'output_{frame_num}.avi', fourcc, 30, (width,height))\n",
    "        out.write(frame)\n",
    "        \n",
    "        frame_num += 1\n",
    "    else:\n",
    "        break\n",
    "\n",
    "cap.release()\n",
    "out.release()"
   ]
  },
  {
   "cell_type": "markdown",
   "id": "7b576656",
   "metadata": {},
   "source": [
    "# 합치는 코드"
   ]
  },
  {
   "cell_type": "code",
   "execution_count": 3,
   "id": "2ed8aec7",
   "metadata": {},
   "outputs": [],
   "source": [
    "clip_1 = VideoFileClip(\"remove/output_0.avi\")\n",
    "clip_2 = VideoFileClip(\"remove/output_300.avi\")\n",
    "clip_3 = VideoFileClip(\"remove/output_600.avi\")\n",
    "clip_4 = VideoFileClip(\"remove/output_900.avi\")"
   ]
  },
  {
   "cell_type": "code",
   "execution_count": 10,
   "id": "0bf8fb11",
   "metadata": {},
   "outputs": [
    {
     "data": {
      "text/plain": [
       "['remove\\\\output_0.avi',\n",
       " 'remove\\\\output_300.avi',\n",
       " 'remove\\\\output_600.avi',\n",
       " 'remove\\\\output_900.avi']"
      ]
     },
     "execution_count": 10,
     "metadata": {},
     "output_type": "execute_result"
    }
   ],
   "source": [
    "video_list = glob.glob('remove/*.avi')\n",
    "clip_list = [VideoFileClip(video) for video in video_list]\n",
    "final_clip = concatenate_videoclips(clip_list)\n",
    "final_clip.write_videofile(\"final.mp4\")"
   ]
  },
  {
   "cell_type": "markdown",
   "id": "a31fa7a6",
   "metadata": {},
   "source": [
    "### 앞,뒤 1초 자르는 코드"
   ]
  },
  {
   "cell_type": "code",
   "execution_count": 11,
   "id": "52a79e62",
   "metadata": {},
   "outputs": [],
   "source": [
    "clip_1.subclip(1, -1)"
   ]
  }
 ],
 "metadata": {
  "kernelspec": {
   "display_name": "Python 3",
   "language": "python",
   "name": "python3"
  },
  "language_info": {
   "codemirror_mode": {
    "name": "ipython",
    "version": 3
   },
   "file_extension": ".py",
   "mimetype": "text/x-python",
   "name": "python",
   "nbconvert_exporter": "python",
   "pygments_lexer": "ipython3",
   "version": "3.8.8"
  },
  "varInspector": {
   "cols": {
    "lenName": 16,
    "lenType": 16,
    "lenVar": 40
   },
   "kernels_config": {
    "python": {
     "delete_cmd_postfix": "",
     "delete_cmd_prefix": "del ",
     "library": "var_list.py",
     "varRefreshCmd": "print(var_dic_list())"
    },
    "r": {
     "delete_cmd_postfix": ") ",
     "delete_cmd_prefix": "rm(",
     "library": "var_list.r",
     "varRefreshCmd": "cat(var_dic_list()) "
    }
   },
   "types_to_exclude": [
    "module",
    "function",
    "builtin_function_or_method",
    "instance",
    "_Feature"
   ],
   "window_display": false
  }
 },
 "nbformat": 4,
 "nbformat_minor": 5
}
