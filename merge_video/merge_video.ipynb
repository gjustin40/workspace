{
 "cells": [
  {
   "cell_type": "markdown",
   "id": "a19ebcc8",
   "metadata": {},
   "source": [
    "# Video Merge\n",
    "- VideoCapture 함수는 1초에 30frame을 기준으로 계산을 하면 된다.\n",
    "- 10초짜리 영상이면 30*10 = 300frame일 때 writer 만들면 된다.\n",
    "- 실제 과업은 5분짜리니까 30*300 = 9000frame으로 하면 짜를 수 있음"
   ]
  },
  {
   "cell_type": "code",
   "execution_count": 3,
   "id": "98c4fb76",
   "metadata": {},
   "outputs": [],
   "source": [
    "import os\n",
    "import glob\n",
    "\n",
    "import cv2\n",
    "import numpy as np\n",
    "\n",
    "from moviepy.editor import VideoFileClip, concatenate_videoclips"
   ]
  },
  {
   "cell_type": "markdown",
   "id": "37fb95cb",
   "metadata": {},
   "source": [
    "### 자르는 코드"
   ]
  },
  {
   "cell_type": "code",
   "execution_count": 19,
   "id": "35cff7f4",
   "metadata": {},
   "outputs": [],
   "source": [
    "video_path = 'test.mp4'\n",
    "\n",
    "cap = cv2.VideoCapture(video_path)\n",
    "fourcc = cv2.VideoWriter_fourcc(*'DIVX')\n",
    "\n",
    "frame_num = 0\n",
    "while True:\n",
    "    ret, frame = cap.read()\n",
    "    if ret:\n",
    "        height, width, _ = np.shape(frame)\n",
    "        if frame_num%300 == 0:\n",
    "            out = cv2.VideoWriter(f'output_{frame_num}.avi', fourcc, 30, (width,height))\n",
    "        out.write(frame)\n",
    "        \n",
    "        frame_num += 1\n",
    "    else:\n",
    "        break\n",
    "\n",
    "cap.release()\n",
    "out.release()"
   ]
  },
  {
   "cell_type": "markdown",
   "id": "3306255b",
   "metadata": {},
   "source": [
    "# 합치는 코드"
   ]
  },
  {
   "cell_type": "code",
   "execution_count": 7,
   "id": "774804ae",
   "metadata": {},
   "outputs": [],
   "source": [
    "clip_1 = VideoFileClip(\"output_0.avi\")\n",
    "clip_2 = VideoFileClip(\"output_300.avi\")\n",
    "clip_3 = VideoFileClip(\"output_600.avi\")\n",
    "clip_4 = VideoFileClip(\"output_900.avi\")"
   ]
  },
  {
   "cell_type": "code",
   "execution_count": 10,
   "id": "88957881",
   "metadata": {},
   "outputs": [
    {
     "data": {
      "text/plain": [
       "['remove\\\\output_0.avi',\n",
       " 'remove\\\\output_300.avi',\n",
       " 'remove\\\\output_600.avi',\n",
       " 'remove\\\\output_900.avi']"
      ]
     },
     "execution_count": 10,
     "metadata": {},
     "output_type": "execute_result"
    }
   ],
   "source": [
    "video_list = glob.glob('remove/*.avi')\n",
    "clip_list = [VideoFileClip(video) for video in video_list]\n",
    "final_clip = concatenate_videoclips(clip_list)\n",
    "final_clip.write_videofile(\"final.mp4\")"
   ]
  }
 ],
 "metadata": {
  "kernelspec": {
   "display_name": "Python 3",
   "language": "python",
   "name": "python3"
  },
  "language_info": {
   "codemirror_mode": {
    "name": "ipython",
    "version": 3
   },
   "file_extension": ".py",
   "mimetype": "text/x-python",
   "name": "python",
   "nbconvert_exporter": "python",
   "pygments_lexer": "ipython3",
   "version": "3.8.8"
  },
  "varInspector": {
   "cols": {
    "lenName": 16,
    "lenType": 16,
    "lenVar": 40
   },
   "kernels_config": {
    "python": {
     "delete_cmd_postfix": "",
     "delete_cmd_prefix": "del ",
     "library": "var_list.py",
     "varRefreshCmd": "print(var_dic_list())"
    },
    "r": {
     "delete_cmd_postfix": ") ",
     "delete_cmd_prefix": "rm(",
     "library": "var_list.r",
     "varRefreshCmd": "cat(var_dic_list()) "
    }
   },
   "types_to_exclude": [
    "module",
    "function",
    "builtin_function_or_method",
    "instance",
    "_Feature"
   ],
   "window_display": false
  }
 },
 "nbformat": 4,
 "nbformat_minor": 5
}
