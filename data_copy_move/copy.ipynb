{
 "cells": [
  {
   "cell_type": "code",
   "execution_count": 1,
   "metadata": {},
   "outputs": [],
   "source": [
    "import os\n",
    "import glob\n",
    "import shutil"
   ]
  },
  {
   "cell_type": "code",
   "execution_count": 4,
   "metadata": {},
   "outputs": [
    {
     "data": {
      "text/plain": [
       "'V:/gaussian_yolov3_HM/validation/traffic/night'"
      ]
     },
     "execution_count": 4,
     "metadata": {},
     "output_type": "execute_result"
    }
   ],
   "source": [
    "image_source = 'Z:/sakong/traffic/dataset/images_night'\n",
    "image_target = 'V:/gaussian_yolov3_HM/validation/traffic/night'\n",
    "\n",
    "shutil.copytree(image_source, image_target)"
   ]
  },
  {
   "cell_type": "code",
   "execution_count": 5,
   "metadata": {},
   "outputs": [
    {
     "data": {
      "text/plain": [
       "'V:/gaussian_yolov3_HM/validation/traffic/xml_night'"
      ]
     },
     "execution_count": 5,
     "metadata": {},
     "output_type": "execute_result"
    }
   ],
   "source": [
    "xml_source = 'Z:/sakong/traffic/dataset/labels_xml_night'\n",
    "xml_target = 'V:/gaussian_yolov3_HM/validation/traffic/xml_night'\n",
    "shutil.copytree(xml_source, xml_target)"
   ]
  },
  {
   "cell_type": "code",
   "execution_count": null,
   "metadata": {},
   "outputs": [],
   "source": [
    "source = /home/dbnt-tb-002/nas-intern/traffic_night/dataset_complete\n",
    "target = /home/dbnt-tb-002/sakong/traffic/dataset"
   ]
  }
 ],
 "metadata": {
  "interpreter": {
   "hash": "33b20ad558e04b38cfad19822a7391e635b12236cec5bf6a7a6f9b5bbf7456f8"
  },
  "kernelspec": {
   "display_name": "Python 3 (ipykernel)",
   "language": "python",
   "name": "python3"
  },
  "language_info": {
   "codemirror_mode": {
    "name": "ipython",
    "version": 3
   },
   "file_extension": ".py",
   "mimetype": "text/x-python",
   "name": "python",
   "nbconvert_exporter": "python",
   "pygments_lexer": "ipython3",
   "version": "3.9.7"
  }
 },
 "nbformat": 4,
 "nbformat_minor": 2
}
